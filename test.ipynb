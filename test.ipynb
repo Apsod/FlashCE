{
 "cells": [
  {
   "cell_type": "code",
   "execution_count": 1,
   "id": "056bff2f",
   "metadata": {},
   "outputs": [],
   "source": [
    "import torch\n",
    "from flash_ce import ce, check_grad, check_valid"
   ]
  },
  {
   "cell_type": "code",
   "execution_count": 2,
   "id": "fa10f299",
   "metadata": {},
   "outputs": [
    {
     "data": {
      "text/plain": [
       "True"
      ]
     },
     "execution_count": 2,
     "metadata": {},
     "output_type": "execute_result"
    }
   ],
   "source": [
    "check_grad()"
   ]
  },
  {
   "cell_type": "code",
   "execution_count": 3,
   "id": "95d883dd",
   "metadata": {},
   "outputs": [
    {
     "data": {
      "text/plain": [
       "True"
      ]
     },
     "execution_count": 3,
     "metadata": {},
     "output_type": "execute_result"
    }
   ],
   "source": [
    "check_valid()"
   ]
  },
  {
   "cell_type": "code",
   "execution_count": 4,
   "id": "08ba79e6",
   "metadata": {},
   "outputs": [],
   "source": [
    "L = 2048*4\n",
    "R = 2048*32\n",
    "#N = 2048\n",
    "l = torch.randn(L, 32, requires_grad=True)\n",
    "r = torch.randn(R, 32, requires_grad=True)\n",
    "p = torch.randint(R, (L,))"
   ]
  },
  {
   "cell_type": "code",
   "execution_count": 12,
   "id": "ad6deb28",
   "metadata": {},
   "outputs": [
    {
     "name": "stdout",
     "output_type": "stream",
     "text": [
      "1.35 s ± 76.8 ms per loop (mean ± std. dev. of 10 runs, 1 loop each)\n"
     ]
    }
   ],
   "source": [
    "%%timeit -r 10 -n 1\n",
    "A = ce(l, r, p, lsplit=512, rsplit=512, fold_at=128)\n",
    "A.mean().backward()"
   ]
  },
  {
   "cell_type": "code",
   "execution_count": 15,
   "id": "865bb3ab",
   "metadata": {},
   "outputs": [],
   "source": [
    "l.grad.zero_()\n",
    "r.grad.zero_()\n",
    "pass"
   ]
  },
  {
   "cell_type": "code",
   "execution_count": 16,
   "id": "09bfd77f",
   "metadata": {},
   "outputs": [
    {
     "name": "stdout",
     "output_type": "stream",
     "text": [
      "2.46 s ± 128 ms per loop (mean ± std. dev. of 10 runs, 1 loop each)\n"
     ]
    }
   ],
   "source": [
    "%%timeit -r 10 -n 1\n",
    "B = torch.nn.functional.cross_entropy(l @ r.t(), p, reduction='none')\n",
    "B.mean().backward()"
   ]
  },
  {
   "cell_type": "code",
   "execution_count": null,
   "id": "d2f29c3e",
   "metadata": {},
   "outputs": [],
   "source": [
    "l.grad.zero_()\n",
    "r.grad.zero_()\n",
    "pass"
   ]
  },
  {
   "cell_type": "code",
   "execution_count": null,
   "id": "dcfd3841",
   "metadata": {},
   "outputs": [],
   "source": []
  }
 ],
 "metadata": {
  "kernelspec": {
   "display_name": "Python 3 (ipykernel)",
   "language": "python",
   "name": "python3"
  },
  "language_info": {
   "codemirror_mode": {
    "name": "ipython",
    "version": 3
   },
   "file_extension": ".py",
   "mimetype": "text/x-python",
   "name": "python",
   "nbconvert_exporter": "python",
   "pygments_lexer": "ipython3",
   "version": "3.10.9"
  }
 },
 "nbformat": 4,
 "nbformat_minor": 5
}
